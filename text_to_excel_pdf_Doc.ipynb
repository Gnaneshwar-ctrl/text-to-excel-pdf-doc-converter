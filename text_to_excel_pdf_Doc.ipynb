{
 "cells": [
  {
   "cell_type": "code",
   "execution_count": 23,
   "metadata": {},
   "outputs": [
    {
     "name": "stdout",
     "output_type": "stream",
     "text": [
      "want .xlsx choose 1 or .pdf choose 2 or .doc choose 3 ::1\n"
     ]
    }
   ],
   "source": [
    "import cv2\n",
    "from fpdf import FPDF\n",
    "import docx \n",
    "import pandas as pd\n",
    "import numpy as np\n",
    "c = int(input(\"want .xlsx choose 1 or .pdf choose 2 or .doc choose 3 ::\"))"
   ]
  },
  {
   "cell_type": "code",
   "execution_count": 24,
   "metadata": {},
   "outputs": [],
   "source": [
    "if(c == 1):\n",
    "    df = pd.read_csv(\"Test!.txt\",sep = ':') \n",
    "    df.to_excel(\"/Users/gnane/Desktop/output.xlsx\", 'Sheet1')\n",
    "    \n",
    "if(c == 2):\n",
    "    pdf = FPDF()\n",
    "    pdf.add_page()\n",
    "    pdf.set_font(\"Times\",size = 10)\n",
    "    fd = open(\"Test!.txt\",\"r\")\n",
    "    \n",
    "    for i in fd:\n",
    "        if(i != \":\"):\n",
    "            pdf.cell (200, 10, txt = i, ln = 1, align = 'C')\n",
    "        else:\n",
    "            pdf.cell (200, 10, txt = \"        \", ln = 1, align = 'C')\n",
    "    pdf.output(\"/Users/gnane/Desktop/output.pdf\")\n",
    "        "
   ]
  },
  {
   "cell_type": "code",
   "execution_count": null,
   "metadata": {},
   "outputs": [],
   "source": []
  }
 ],
 "metadata": {
  "kernelspec": {
   "display_name": "Python 3",
   "language": "python",
   "name": "python3"
  },
  "language_info": {
   "codemirror_mode": {
    "name": "ipython",
    "version": 3
   },
   "file_extension": ".py",
   "mimetype": "text/x-python",
   "name": "python",
   "nbconvert_exporter": "python",
   "pygments_lexer": "ipython3",
   "version": "3.8.3"
  }
 },
 "nbformat": 4,
 "nbformat_minor": 4
}
